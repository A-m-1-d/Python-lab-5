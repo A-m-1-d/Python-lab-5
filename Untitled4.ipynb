{
  "nbformat": 4,
  "nbformat_minor": 0,
  "metadata": {
    "colab": {
      "provenance": [],
      "authorship_tag": "ABX9TyNENUj85827kaFtNRY/ThZk",
      "include_colab_link": true
    },
    "kernelspec": {
      "name": "python3",
      "display_name": "Python 3"
    },
    "language_info": {
      "name": "python"
    }
  },
  "cells": [
    {
      "cell_type": "markdown",
      "metadata": {
        "id": "view-in-github",
        "colab_type": "text"
      },
      "source": [
        "<a href=\"https://colab.research.google.com/github/A-m-1-d/Python-lab-5/blob/main/Untitled4.ipynb\" target=\"_parent\"><img src=\"https://colab.research.google.com/assets/colab-badge.svg\" alt=\"Open In Colab\"/></a>"
      ]
    },
    {
      "cell_type": "code",
      "execution_count": 17,
      "metadata": {
        "id": "5D5V7Jbz7tu5"
      },
      "outputs": [],
      "source": [
        "import numpy as np\n",
        "import matplotlib.pyplot as plt\n",
        "\n",
        "x = np.linspace(0, 10, 100)\n",
        "y = np.sin(x)\n",
        "z = np.cos(x)\n",
        "\n",
        "plt.figure()\n",
        "plt.plot(x, y, label='sin(x)')\n",
        "plt.plot(x, z, label='cos(x)')\n",
        "plt.xlabel(\"x\")\n",
        "plt.ylabel(\"Значение\")\n",
        "plt.title(\"Графики sin(x) и cos(x)\")\n",
        "plt.legend()\n",
        "plt.grid(True)\n",
        "plt.savefig(\"plot_sin_cos.png\")\n",
        "plt.close()"
      ]
    },
    {
      "cell_type": "code",
      "source": [
        "import numpy as np\n",
        "import matplotlib.pyplot as plt\n",
        "\n",
        "data = np.random.normal(0, 1, 1000)\n",
        "plt.figure()\n",
        "plt.hist(data, bins=20, color='skyblue', edgecolor='black')\n",
        "plt.title(\"Гистограмма нормального распределения\")\n",
        "plt.xlabel(\"Значение\")\n",
        "plt.ylabel(\"Частота\")\n",
        "plt.grid(True)\n",
        "plt.savefig(\"histogram.png\")\n",
        "plt.close()"
      ],
      "metadata": {
        "id": "1LtfV1Wv71BI"
      },
      "execution_count": 18,
      "outputs": []
    },
    {
      "cell_type": "code",
      "source": [
        "import numpy as np\n",
        "\n",
        "matrix = np.random.randint(1, 11, (5, 5))\n",
        "mean_val = np.mean(matrix)\n",
        "min_val = np.min(matrix)\n",
        "max_val = np.max(matrix)\n",
        "sum_columns = np.sum(matrix, axis=0)\n",
        "\n",
        "print(\"Матрица 5x5:\")\n",
        "print(matrix)\n",
        "print(\"Среднее значение:\", mean_val)\n",
        "print(\"Минимум:\", min_val)\n",
        "print(\"Максимум:\", max_val)\n",
        "print(\"Сумма по столбцам:\", sum_columns)"
      ],
      "metadata": {
        "colab": {
          "base_uri": "https://localhost:8080/"
        },
        "id": "HgE4sbD871KD",
        "outputId": "629ef084-880a-4124-c754-80e38a5b68f4"
      },
      "execution_count": 11,
      "outputs": [
        {
          "output_type": "stream",
          "name": "stdout",
          "text": [
            "Матрица 5x5:\n",
            "[[2 6 3 1 2]\n",
            " [7 5 4 8 7]\n",
            " [3 2 5 7 1]\n",
            " [3 9 9 5 1]\n",
            " [6 9 6 8 6]]\n",
            "Среднее значение: 5.0\n",
            "Минимум: 1\n",
            "Максимум: 9\n",
            "Сумма по столбцам: [21 31 27 29 17]\n"
          ]
        }
      ]
    },
    {
      "cell_type": "code",
      "source": [
        "import numpy as np\n",
        "import matplotlib.pyplot as plt\n",
        "\n",
        "matrix = np.random.randint(1, 11, (5, 5))\n",
        "plt.figure()\n",
        "plt.imshow(matrix, cmap='hot', interpolation='nearest')\n",
        "plt.colorbar()\n",
        "for i in range(matrix.shape[0]):\n",
        "    for j in range(matrix.shape[1]):\n",
        "        plt.text(j, i, str(matrix[i, j]), ha='center', va='center', color='white')\n",
        "plt.title(\"Тепловая карта матрицы\")\n",
        "plt.savefig(\"heatmap.png\")\n",
        "plt.close()"
      ],
      "metadata": {
        "id": "NpLZ9FzT71Po"
      },
      "execution_count": 15,
      "outputs": []
    },
    {
      "cell_type": "code",
      "source": [
        "import numpy as np\n",
        "import matplotlib.pyplot as plt\n",
        "\n",
        "fig, axs = plt.subplots(1, 3, figsize=(15, 4))\n",
        "\n",
        "x_vals = np.linspace(-10, 10, 100)\n",
        "axs[0].plot(x_vals, x_vals**2, color='green')\n",
        "axs[0].set_title(\"y = x^2\")\n",
        "axs[0].grid(True)\n",
        "\n",
        "x_rand = np.random.rand(50)\n",
        "y_rand = np.random.rand(50)\n",
        "axs[1].scatter(x_rand, y_rand, color='purple')\n",
        "axs[1].set_title(\"Случайные точки\")\n",
        "axs[1].grid(True)\n",
        "\n",
        "categories = ['A', 'B', 'C']\n",
        "values = [3, 7, 2]\n",
        "axs[2].bar(categories, values, color='orange')\n",
        "axs[2].set_title(\"Категориальные данные\")\n",
        "axs[2].grid(True)\n",
        "\n",
        "plt.tight_layout()\n",
        "plt.savefig(\"subplots.png\")\n",
        "plt.close()"
      ],
      "metadata": {
        "id": "PrQvjLkx7z5T"
      },
      "execution_count": 16,
      "outputs": []
    }
  ]
}